{
 "cells": [
  {
   "cell_type": "markdown",
   "metadata": {},
   "source": [
    "# Parsing pdf with Pymupdf"
   ]
  },
  {
   "cell_type": "code",
   "execution_count": 15,
   "metadata": {},
   "outputs": [],
   "source": [
    "import pymupdf\n",
    "doc = pymupdf.open(\"resume.pdf\")"
   ]
  },
  {
   "cell_type": "code",
   "execution_count": 16,
   "metadata": {},
   "outputs": [
    {
     "data": {
      "text/plain": [
       "Document('resume.pdf')"
      ]
     },
     "execution_count": 16,
     "metadata": {},
     "output_type": "execute_result"
    }
   ],
   "source": [
    "doc"
   ]
  },
  {
   "cell_type": "code",
   "execution_count": 21,
   "metadata": {},
   "outputs": [
    {
     "name": "stdout",
     "output_type": "stream",
     "text": [
      "Singapore\n",
      "hangjoni@gmail.com\n",
      "+65 97764369\n",
      "Joni Ngo\n",
      "linkedin.com/in/hangjoni\n",
      "github.com/hangjoni\n",
      "Data Scientist with Sales background. Unique perspective on leveraging data-driven solutions to meet business objectives.\n",
      "M.Sc. in Machine Learning with proven expertise in developing recommendation systems, data solutions and predictive\n",
      "models.\n",
      "Work Experience\n",
      "Customer Data Scientist\n",
      "Smartly.io\n",
      "2018 – 2023\n",
      "●\n",
      "Designed and built tailored/scalable data products to support clients in achieving key metrics. Projects include:\n",
      "Vertical benchmark dashboard:\n",
      "o\n",
      "Initiated and led a team to build a dashboard benchmarking marketing metrics for clients against their\n",
      "relevant verticals and markets. Engineered data mining methods to extract data from multiple sources and\n",
      "formats which unlock proprietary analysis previously unavailable.\n",
      "o\n",
      "> 50% of Sales teams adopted the dashboard in key client renewals engagement. The dashboard was\n",
      "eventually converted to a fully scaled, revenue generating product helping to expand profit margin with\n",
      "clients.\n",
      "o\n",
      "Skills: SQL, Data Build Tool, data extraction, Snowflake, Tableau\n",
      "Feature Recommendation system with chatbot integration\n",
      "o\n",
      "Initiated and independently led the project to build a recommendation engine. During alpha-release, >80%\n",
      "of recommendations made were accepted and converted to sales pitch.\n",
      "o\n",
      "The program queries clients’ accounts; generating feature recommendations using rule-based logic and\n",
      "sends push messages via Slack to account managers for onward sell-in to clients.\n",
      "o\n",
      "Skills: SQL, Scikit-learn, Pandas, API\n",
      "Client’s Account Audit Web App\n",
      "o\n",
      "Engineered a web application that generates tailored marketing campaign recommendations in slide deck\n",
      "format.\n",
      "o\n",
      "Streamlined existing workflow, saving >300 hours per month for account managers.\n",
      "o\n",
      "Skills: SQL, Pandas, Flask, React, Docker\n",
      "CPA modeling:\n",
      "o\n",
      "Utilizing linear regression model, built web app to forecast marketing metrics; resulting in 35% upsell\n",
      "impact during quarterly budget planning.\n",
      "o\n",
      "Skills: Scikit-learn, Pandas, D3.js, React\n",
      "●\n",
      "Acted as knowledge expert and provided consultation for strategic clients on data-driven marketing, formulating\n",
      "insights from data, and designing A/B tests as well as randomized control tests to validate marketing strategies\n",
      "Territory Account Manager\n",
      "Google\n",
      "2014 – 2017\n",
      "●\n",
      "Built partnerships with media agencies in Vietnam.\n",
      "●\n",
      "Led strategic in-market initiatives with cross-functional teams including:\n",
      "o\n",
      "Education and certification program,\n",
      "o\n",
      "Joint acquisition events,\n",
      "o\n",
      "Sales-incentive deals that led to +130% YoY portfolio growth and exceeding targets for 4 straight quarters.\n",
      "Analyst\n",
      "BNP Paribas\n",
      "2012 – 2014\n",
      "●\n",
      "Critically evaluated credit profiles and financials; devising strategic covenants to mitigate risks in corporate banking,\n",
      "while effectively mediating between risk and sales teams during credit committee presentations\n",
      "\n",
      "Education and Certifications\n",
      "M.Sc. Computer Science\n",
      "Georgia Institute of Technology\n",
      "2022 – 2024\n",
      "●\n",
      "Specialization in Machine Learning\n",
      "●\n",
      "Course works: Natural Language Processing, Big Data for Health, Deep Learning, Machine Learning\n",
      "B.BA. (Hons) Finance\n",
      "National University of Singapore\n",
      "2008 – 2012\n",
      "●\n",
      "Graduated with First Class Honors\n",
      "Awards\n",
      "Scholarship from Singapore Ministry of Foreign Affairs\n",
      "2008 – 2012\n",
      "●\n",
      "Selected as 1 of 11 winners in a competition among 500 students in Vietnam.\n",
      "●\n",
      "Awarded full scholarship for the course of undergraduate study\n",
      "Dean’s List\n",
      "2008 , 2009\n",
      "●\n",
      "Recognized as top student in the cohort for 3 semesters\n",
      "Projects\n",
      "Predict diagnosis code from hospital discharge summaries using Hierarchical Label-wise Attention Network (“HLAN”)\n",
      "https://github.com/hangjoni/hlan-mimic-project\n",
      "●Implemented a deep neural network with attention mechanisms to process patient records in natural language\n",
      "format and predict the diagnoses, replicating state-of-the-art patient-diagnosis prediction performance and match\n",
      "performance reported in the original paper\n",
      "●Upgraded framework dependency from Tensorflow 1 to Pytorch while reducing code repetition resulting in 80%\n",
      "shorter code base and improved readability\n",
      "●Enhanced interpretability of the model using Captum’s integrated gradients to highlight words important for\n",
      "diagnoses classification.\n",
      "Hacker News reader Progressive Web App\n",
      "https://github.com/hangjoni/hnpwa\n",
      "-\n",
      "Developed a Hacker News reader as a Progressive Web App using Vue 3, featuring a responsive design that adapts\n",
      "seamlessly to different device screens.\n",
      "-\n",
      "Leveraged service workers for advanced functionalities like caching of app resources and enabling offline loading of\n",
      "articles.\n",
      "Deep Learning Blog\n",
      "https://joningo.substack.com/\n",
      "-\n",
      "I write about practical model training techniques for training deep neural networks\n",
      "-\n",
      "Summarizes latest research papers on Large Language Models and learnings from my experiments with these\n",
      "models\n",
      "Technologies and Languages\n",
      "●\n",
      "Languages:\n",
      "Python, JavaScript, SQL, R\n",
      "●\n",
      "Technologies:\n",
      "Git, dbt, Docker, Hadoop, Spark, AWS, Snowflake\n",
      "●\n",
      "Libraries:\n",
      "Pandas, Pytorch, Scikit-learn, spaCy, gensim, D3.js, Vue.js, React\n",
      "\n",
      "\n"
     ]
    }
   ],
   "source": [
    "text = \"\"\n",
    "for page in doc:\n",
    "    text += page.get_text() + \"\\n\"\n",
    "\n",
    "print(text)"
   ]
  },
  {
   "cell_type": "markdown",
   "metadata": {},
   "source": [
    "# Agent"
   ]
  },
  {
   "cell_type": "code",
   "execution_count": 47,
   "metadata": {},
   "outputs": [],
   "source": [
    "import os\n",
    "import openai\n",
    "\n",
    "from langchain.chat_models import ChatOpenAI\n",
    "from langchain.prompts import ChatPromptTemplate\n",
    "from langchain.tools.render import format_tool_to_openai_function\n",
    "from langchain.agents.output_parsers import OpenAIFunctionsAgentOutputParser\n",
    "from langchain.utils.openai_functions import convert_pydantic_to_openai_function\n",
    "from langchain.output_parsers.openai_functions import JsonOutputFunctionsParser\n",
    "\n",
    "from typing import List, Optional\n",
    "from pydantic import BaseModel, Field\n",
    "\n",
    "from dotenv import load_dotenv, find_dotenv\n",
    "_ = load_dotenv(find_dotenv()) # read local .env file\n",
    "openai.api_key = os.environ['OPENAI_API_KEY']"
   ]
  },
  {
   "cell_type": "code",
   "execution_count": 23,
   "metadata": {},
   "outputs": [],
   "source": [
    "model = ChatOpenAI()\n",
    "prompt = ChatPromptTemplate.from_messages([\n",
    "    (\"system\", \"You are a career advisor. You have been asked to review a resume and provide feedback and suggestions\"),\n",
    "    (\"user\", \"{input}\"),\n",
    "])\n",
    "chain = prompt | model"
   ]
  },
  {
   "cell_type": "code",
   "execution_count": 24,
   "metadata": {},
   "outputs": [],
   "source": [
    "result = chain.invoke({\"input\": text})"
   ]
  },
  {
   "cell_type": "code",
   "execution_count": 25,
   "metadata": {},
   "outputs": [
    {
     "data": {
      "text/plain": [
       "AIMessage(content='Overall, your resume is quite impressive with a strong focus on data science and machine learning. Here are some suggestions to further enhance your resume:\\n\\n1. **Summary Section**: Consider expanding your summary to include more details about your career goals, key achievements, and unique skills that set you apart from other candidates. Highlight how your sales background complements your data science expertise.\\n\\n2. **Work Experience**: Your work experience section is detailed and showcases your hands-on experience in developing data products and solutions. Consider quantifying your achievements with specific metrics or percentages to provide concrete evidence of your impact.\\n\\n3. **Education**: Your educational background is impressive, especially with your specialization in Machine Learning. Make sure to highlight any relevant coursework or projects that demonstrate your expertise in the field.\\n\\n4. **Projects**: Your projects section is strong and demonstrates your practical skills in machine learning and web development. Consider adding a brief description of the goals and outcomes of each project to give recruiters a better understanding of your technical abilities.\\n\\n5. **Skills**: Your list of technologies and languages is comprehensive. Consider organizing this section into categories such as programming languages, data analysis tools, machine learning frameworks, and web development technologies to make it easier for recruiters to identify your key skill sets.\\n\\n6. **Certifications and Awards**: Highlight any additional certifications or awards related to data science, machine learning, or sales that further validate your expertise in these areas.\\n\\n7. **Personal Projects**: Consider adding any personal projects or contributions to open-source repositories that showcase your passion for data science and machine learning outside of your professional work.\\n\\n8. **Networking**: Since you have LinkedIn and GitHub profiles listed, make sure they are up-to-date and contain relevant information that complements your resume. Consider adding more details about your projects, skills, and achievements on these platforms.\\n\\nRemember to tailor your resume to the specific job you are applying for by highlighting the most relevant experiences and skills that align with the job requirements. Good luck with your job search!', response_metadata={'token_usage': {'completion_tokens': 396, 'prompt_tokens': 1123, 'total_tokens': 1519}, 'model_name': 'gpt-3.5-turbo', 'system_fingerprint': None, 'finish_reason': 'stop', 'logprobs': None}, id='run-2e6d381a-48e4-434c-ac9a-d64dcdcdecef-0')"
      ]
     },
     "execution_count": 25,
     "metadata": {},
     "output_type": "execute_result"
    }
   ],
   "source": [
    "result"
   ]
  },
  {
   "cell_type": "code",
   "execution_count": 26,
   "metadata": {},
   "outputs": [
    {
     "name": "stdout",
     "output_type": "stream",
     "text": [
      "Overall, your resume is quite impressive with a strong focus on data science and machine learning. Here are some suggestions to further enhance your resume:\n",
      "\n",
      "1. **Summary Section**: Consider expanding your summary to include more details about your career goals, key achievements, and unique skills that set you apart from other candidates. Highlight how your sales background complements your data science expertise.\n",
      "\n",
      "2. **Work Experience**: Your work experience section is detailed and showcases your hands-on experience in developing data products and solutions. Consider quantifying your achievements with specific metrics or percentages to provide concrete evidence of your impact.\n",
      "\n",
      "3. **Education**: Your educational background is impressive, especially with your specialization in Machine Learning. Make sure to highlight any relevant coursework or projects that demonstrate your expertise in the field.\n",
      "\n",
      "4. **Projects**: Your projects section is strong and demonstrates your practical skills in machine learning and web development. Consider adding a brief description of the goals and outcomes of each project to give recruiters a better understanding of your technical abilities.\n",
      "\n",
      "5. **Skills**: Your list of technologies and languages is comprehensive. Consider organizing this section into categories such as programming languages, data analysis tools, machine learning frameworks, and web development technologies to make it easier for recruiters to identify your key skill sets.\n",
      "\n",
      "6. **Certifications and Awards**: Highlight any additional certifications or awards related to data science, machine learning, or sales that further validate your expertise in these areas.\n",
      "\n",
      "7. **Personal Projects**: Consider adding any personal projects or contributions to open-source repositories that showcase your passion for data science and machine learning outside of your professional work.\n",
      "\n",
      "8. **Networking**: Since you have LinkedIn and GitHub profiles listed, make sure they are up-to-date and contain relevant information that complements your resume. Consider adding more details about your projects, skills, and achievements on these platforms.\n",
      "\n",
      "Remember to tailor your resume to the specific job you are applying for by highlighting the most relevant experiences and skills that align with the job requirements. Good luck with your job search!\n"
     ]
    }
   ],
   "source": [
    "print(result.content)"
   ]
  },
  {
   "cell_type": "code",
   "execution_count": 61,
   "metadata": {},
   "outputs": [],
   "source": [
    "class WorkExperience(BaseModel):\n",
    "    \"\"\"Describe work experiences in a more concise and impactful manner. \n",
    "        Make sure the impact states clear quantifiable results and shows the skills and role of the candidate. \n",
    "        Make sure the description is stated in how it is relevant for a job as Data Scientist. \"\"\"\n",
    "    company: str = Field(..., title=\"Company Name\", description=\"Name of the company\")\n",
    "    title: str = Field(..., title=\"Job Title\", description=\"Job title\")\n",
    "    start_date: str = Field(..., title=\"Start Date\", description=\"Start date of the job\")\n",
    "    end_date: str = Field(None, title=\"End Date\", description=\"End date of the job\")\n",
    "    description: Optional[str] = Field(None, title=\"Description\", description=\"Description of the job responsibilities\")\n",
    "    impacts: Optional[List[str]] = Field(None, title=\"Impacts\", description=\"List of key projects and impacts made in the job\")\n"
   ]
  },
  {
   "cell_type": "code",
   "execution_count": 62,
   "metadata": {},
   "outputs": [],
   "source": [
    "class WorkExperienceList(BaseModel):\n",
    "    \"\"\"List of work experiences\"\"\"\n",
    "    work_experiences: List[WorkExperience] = Field(..., title=\"Work Experiences\", description=\"List of work experiences\")"
   ]
  },
  {
   "cell_type": "code",
   "execution_count": 63,
   "metadata": {},
   "outputs": [
    {
     "data": {
      "text/plain": [
       "{'name': 'WorkExperienceList',\n",
       " 'description': 'List of work experiences',\n",
       " 'parameters': {'type': 'object',\n",
       "  'properties': {'work_experiences': {'description': 'List of work experiences',\n",
       "    'type': 'array',\n",
       "    'items': {'description': 'Describe work experiences in a more concise and impactful manner. \\nMake sure the impact states clear quantifiable results and shows the skills and role of the candidate. \\nMake sure the description is stated in how it is relevant for a job as Data Scientist. ',\n",
       "     'type': 'object',\n",
       "     'properties': {'company': {'description': 'Name of the company',\n",
       "       'type': 'string'},\n",
       "      'title': {'description': 'Job title', 'type': 'string'},\n",
       "      'start_date': {'description': 'Start date of the job', 'type': 'string'},\n",
       "      'end_date': {'description': 'End date of the job', 'type': 'string'},\n",
       "      'description': {'description': 'Description of the job responsibilities',\n",
       "       'type': 'string'},\n",
       "      'impacts': {'description': 'List of key projects and impacts made in the job',\n",
       "       'type': 'array',\n",
       "       'items': {'type': 'string'}}},\n",
       "     'required': ['company', 'title', 'start_date']}}},\n",
       "  'required': ['work_experiences']}}"
      ]
     },
     "execution_count": 63,
     "metadata": {},
     "output_type": "execute_result"
    }
   ],
   "source": [
    "work_parsing_function = convert_pydantic_to_openai_function(WorkExperienceList)\n",
    "work_parsing_function"
   ]
  },
  {
   "cell_type": "code",
   "execution_count": 64,
   "metadata": {},
   "outputs": [],
   "source": [
    "prompt = ChatPromptTemplate.from_messages([\n",
    "    (\"system\", \"Read the user input carefully and extract the work experiences from the resume\"),\n",
    "    (\"user\", \"{input}\")\n",
    "])\n",
    "\n",
    "model_with_work = model.bind(\n",
    "    functions=[work_parsing_function],\n",
    "    function_call={\"name\": \"WorkExperienceList\"}\n",
    ")\n",
    "\n",
    "chain = prompt | model_with_work | JsonOutputFunctionsParser(key_name=\"work_experiences\")\n",
    "\n",
    "output = chain.invoke({\"input\": text})"
   ]
  },
  {
   "cell_type": "code",
   "execution_count": 65,
   "metadata": {},
   "outputs": [
    {
     "data": {
      "text/plain": [
       "{'work_experiences': [{'company': 'Smartly.io',\n",
       "   'title': 'Customer Data Scientist',\n",
       "   'start_date': '2018',\n",
       "   'end_date': '2023',\n",
       "   'description': 'Designed and built tailored/scalable data products to support clients in achieving key metrics.',\n",
       "   'impacts': ['Initiated and led a team to build a dashboard benchmarking marketing metrics for clients against their relevant verticals and markets. Engineered data mining methods to extract data from multiple sources and formats which unlock proprietary analysis previously unavailable.',\n",
       "    '50% of Sales teams adopted the dashboard in key client renewals engagement. The dashboard was eventually converted to a fully scaled, revenue generating product helping to expand profit margin with clients.'],\n",
       "   'skills': 'SQL, Data Build Tool, data extraction, Snowflake, Tableau'},\n",
       "  {'company': 'Smartly.io',\n",
       "   'title': 'Customer Data Scientist',\n",
       "   'start_date': '2018',\n",
       "   'end_date': '2023',\n",
       "   'description': 'Designed and built tailored/scalable data products to support clients in achieving key metrics.',\n",
       "   'impacts': ['Initiated and independently led the project to build a recommendation engine. During alpha-release, >80% of recommendations made were accepted and converted to sales pitch.'],\n",
       "   'skills': 'SQL, Scikit-learn, Pandas, API'},\n",
       "  {'company': 'Smartly.io',\n",
       "   'title': 'Customer Data Scientist',\n",
       "   'start_date': '2018',\n",
       "   'end_date': '2023',\n",
       "   'description': 'Designed and built tailored/scalable data products to support clients in achieving key metrics.',\n",
       "   'impacts': ['Engineered a web application that generates tailored marketing campaign recommendations in slide deck format. Streamlined existing workflow, saving >300 hours per month for account managers.'],\n",
       "   'skills': 'SQL, Pandas, Flask, React, Docker'},\n",
       "  {'company': 'Smartly.io',\n",
       "   'title': 'Customer Data Scientist',\n",
       "   'start_date': '2018',\n",
       "   'end_date': '2023',\n",
       "   'description': 'Designed and built tailored/scalable data products to support clients in achieving key metrics.',\n",
       "   'impacts': ['Utilizing linear regression model, built web app to forecast marketing metrics; resulting in 35% upsell impact during quarterly budget planning.'],\n",
       "   'skills': 'Scikit-learn, Pandas, D3.js, React'},\n",
       "  {'company': 'Smartly.io',\n",
       "   'title': 'Customer Data Scientist',\n",
       "   'start_date': '2018',\n",
       "   'end_date': '2023',\n",
       "   'description': 'Acted as knowledge expert and provided consultation for strategic clients on data-driven marketing, formulating insights from data, and designing A/B tests as well as randomized control tests to validate marketing strategies.'},\n",
       "  {'company': 'Google',\n",
       "   'title': 'Territory Account Manager',\n",
       "   'start_date': '2014',\n",
       "   'end_date': '2017',\n",
       "   'description': 'Built partnerships with media agencies in Vietnam. Led strategic in-market initiatives with cross-functional teams.',\n",
       "   'impacts': ['Education and certification program',\n",
       "    'Joint acquisition events',\n",
       "    'Sales-incentive deals that led to +130% YoY portfolio growth and exceeding targets for 4 straight quarters.']}]}"
      ]
     },
     "execution_count": 65,
     "metadata": {},
     "output_type": "execute_result"
    }
   ],
   "source": [
    "output"
   ]
  },
  {
   "cell_type": "code",
   "execution_count": 55,
   "metadata": {},
   "outputs": [],
   "source": [
    "prompt = ChatPromptTemplate.from_messages([\n",
    "    (\"system\", \"Rewrite the following work experiences in a more concise and impactful manner. Make sure the impact states clear quantifiable results and shows the skills and role of the candidate. Make sure the description is stated in how it is relevant for a job as Data Scientist. Keep the format of the work experiences the same.\"),\n",
    "    (\"user\", \"{input}\")\n",
    "])\n",
    "\n",
    "model = ChatOpenAI()\n",
    "\n",
    "chain = prompt | model\n",
    "\n",
    "output2 = chain.invoke({\"input\": output})"
   ]
  },
  {
   "cell_type": "code",
   "execution_count": 57,
   "metadata": {},
   "outputs": [
    {
     "name": "stdout",
     "output_type": "stream",
     "text": [
      "{'work_experiences': [{'company': 'Smartly.io', 'title': 'Customer Data Scientist', 'start_date': '2018', 'end_date': '2023', 'description': 'Designed tailored data products to boost client metrics.', 'impacts': ['Led team to create benchmarking dashboard for clients, improving marketing metrics by 20%.', 'Developed Feature Recommendation system with chatbot integration, achieving 90% acceptance rate.', 'Engineered web app for generating marketing recommendations, saving 15 hours/week for account managers.', 'Built CPA modeling web app using linear regression, resulting in 10% upsell impact during budget planning.'], 'skills': ['SQL', 'Data Build Tool', 'Snowflake', 'Tableau', 'Scikit-learn', 'Pandas', 'API', 'Flask', 'React', 'Docker', 'D3.js']}, {'company': 'Google', 'title': 'Territory Account Manager', 'start_date': '2014', 'end_date': '2017', 'description': 'Grew Vietnam portfolio by +130% through strategic partnerships with media agencies.', 'skills': ['Sales', 'Partnerships', 'Event Management', 'Strategic Planning']}, {'company': 'BNP Paribas', 'title': 'Analyst', 'start_date': '2012', 'end_date': '2014', 'description': 'Evaluated credit profiles, devised risk-mitigating covenants, and facilitated credit committee presentations.', 'skills': ['Risk Evaluation', 'Financial Analysis', 'Credit Management', 'Mediation']}]}\n"
     ]
    }
   ],
   "source": [
    "print(output2.content)"
   ]
  },
  {
   "cell_type": "code",
   "execution_count": null,
   "metadata": {},
   "outputs": [],
   "source": []
  }
 ],
 "metadata": {
  "kernelspec": {
   "display_name": "agent310",
   "language": "python",
   "name": "python3"
  },
  "language_info": {
   "codemirror_mode": {
    "name": "ipython",
    "version": 3
   },
   "file_extension": ".py",
   "mimetype": "text/x-python",
   "name": "python",
   "nbconvert_exporter": "python",
   "pygments_lexer": "ipython3",
   "version": "3.10.14"
  }
 },
 "nbformat": 4,
 "nbformat_minor": 2
}
